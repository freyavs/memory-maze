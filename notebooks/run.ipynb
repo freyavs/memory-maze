{
 "cells": [
  {
   "cell_type": "code",
   "execution_count": null,
   "id": "6bbbc659-9577-49b2-8018-51f6eb63a225",
   "metadata": {},
   "outputs": [],
   "source": [
    "!rm -rf memory-maze"
   ]
  },
  {
   "cell_type": "code",
   "execution_count": null,
   "id": "be4ba694-652a-4528-bc5e-ef93788a412f",
   "metadata": {},
   "outputs": [],
   "source": [
    "!git clone https://github.com/freyavs/memory-maze.git"
   ]
  },
  {
   "cell_type": "code",
   "execution_count": null,
   "id": "b976a9d9-0b73-4157-8a7a-304ce221bea1",
   "metadata": {},
   "outputs": [],
   "source": [
    "!pip install gym && pip install -qe memory-maze && pip install stable-baselines3"
   ]
  },
  {
   "cell_type": "code",
   "execution_count": null,
   "id": "873db81a-1a5c-4c19-88fd-417674aa8a0d",
   "metadata": {},
   "outputs": [],
   "source": [
    "# Import some plotting helpers\n",
    "from dommel.visualize import *\n",
    "%matplotlib inline"
   ]
  },
  {
   "cell_type": "code",
   "execution_count": null,
   "id": "870af7b2-641c-49f4-82b4-d45d5be7b71e",
   "metadata": {
    "scrolled": true,
    "tags": []
   },
   "outputs": [],
   "source": [
    "import numpy as np\n",
    "import gym\n",
    "from stable_baselines3 import DQN\n",
    "from stable_baselines3.common.monitor import Monitor\n",
    "\n",
    "env = gym.make(\"memory_maze:MemoryMaze-custom-v0\")\n",
    "env = Monitor(env, \"logs\")\n",
    "\n",
    "model = DQN(\"CnnPolicy\", env, exploration_fraction=0.8, verbose=1)\n",
    "model.learn(total_timesteps=10000, log_interval=100)\n",
    "\n",
    "# saving and loading demonstration\n",
    "#model.save(\"deepq_maze\")\n",
    "#del model # remove to demonstrate saving and loading\n",
    "#model = DQN.load(\"deepq_cartpole\")\n"
   ]
  },
  {
   "cell_type": "code",
   "execution_count": null,
   "id": "88f86a8b-d85e-4be0-afc9-cddbae304ad2",
   "metadata": {},
   "outputs": [],
   "source": [
    "from stable_baselines3.common import results_plotter\n",
    "\n",
    "%matplotlib inline\n",
    "results_plotter.plot_results([\"./logs\"], 10e6, results_plotter.X_TIMESTEPS, \"Reward\")"
   ]
  },
  {
   "cell_type": "code",
   "execution_count": null,
   "id": "67135cee-7060-4b5c-83a1-92f14670ff6d",
   "metadata": {},
   "outputs": [],
   "source": [
    "obs = env.reset()\n",
    "_ = vis_image(obs, show=True)\n",
    "for i in range(100): \n",
    "    action, _states = model.predict(obs)\n",
    "    obs, rewards, done, info = env.step(action)\n",
    "    _ = vis_image(obs, show=True)\n",
    "    if done:\n",
    "        env.reset()"
   ]
  },
  {
   "cell_type": "code",
   "execution_count": null,
   "id": "fa6ba944-3f86-44c4-bc65-677bc49b51d9",
   "metadata": {},
   "outputs": [],
   "source": []
  }
 ],
 "metadata": {
  "kernelspec": {
   "display_name": "Python 3",
   "language": "python",
   "name": "python3"
  },
  "language_info": {
   "codemirror_mode": {
    "name": "ipython",
    "version": 3
   },
   "file_extension": ".py",
   "mimetype": "text/x-python",
   "name": "python",
   "nbconvert_exporter": "python",
   "pygments_lexer": "ipython3",
   "version": "3.10.9"
  },
  "vscode": {
   "interpreter": {
    "hash": "e7370f93d1d0cde622a1f8e1c04877d8463912d04d973331ad4851f04de6915a"
   }
  }
 },
 "nbformat": 4,
 "nbformat_minor": 5
}
